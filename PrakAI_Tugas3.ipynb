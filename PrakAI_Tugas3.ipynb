{
  "nbformat": 4,
  "nbformat_minor": 0,
  "metadata": {
    "colab": {
      "provenance": []
    },
    "kernelspec": {
      "name": "python3",
      "display_name": "Python 3"
    },
    "language_info": {
      "name": "python"
    }
  },
  "cells": [
    {
      "cell_type": "markdown",
      "source": [
        "**Greedy Best First Search**"
      ],
      "metadata": {
        "id": "e0xbui4qirm0"
      }
    },
    {
      "cell_type": "code",
      "source": [
        "from queue import PriorityQueue\n",
        "\n",
        "# Fungsi untuk merekonstruksi jalur\n",
        "def reconstruct_path(came_from, start, goal):\n",
        "    current = goal\n",
        "    path = []\n",
        "\n",
        "    while current != start:\n",
        "        path.append(current)\n",
        "        current = came_from[current]\n",
        "\n",
        "    path.append(start)\n",
        "    path.reverse()\n",
        "    return path\n",
        "\n",
        "# Fungsi algoritma Greedy Best-First Search\n",
        "def greedy_search(graph, heuristic, start, goal):\n",
        "    frontier = PriorityQueue()\n",
        "    frontier.put((heuristic.get(start, float('inf')), start))\n",
        "    came_from = {}\n",
        "    explored = set()\n",
        "\n",
        "    while not frontier.empty():\n",
        "        _, current_node = frontier.get()\n",
        "\n",
        "        if current_node == goal:\n",
        "            print(\"Simpul Tujuan Ditemukan!\")\n",
        "            path = reconstruct_path(came_from, start, goal)\n",
        "            print(\"Jalur terpendek:\", path)\n",
        "            return path\n",
        "\n",
        "        explored.add(current_node)\n",
        "\n",
        "        for neighbor in graph.get(current_node, []):\n",
        "            if neighbor not in explored:\n",
        "                frontier.put((heuristic.get(neighbor, float('inf')), neighbor))\n",
        "                came_from[neighbor] = current_node\n",
        "\n",
        "    print(\"Simpul tujuan tidak ditemukan!\")\n",
        "    return None\n",
        "\n",
        "# Daftar Heuristik\n",
        "heuristic = {\n",
        "    'A': 4,\n",
        "    'B': 3,\n",
        "    'C': 3,\n",
        "    'D': 1,\n",
        "    'S': 6,\n",
        "    'G': 0\n",
        "}\n",
        "\n",
        "# Graf menggunakan dictionary\n",
        "graph = {\n",
        "    'S': ['A', 'B'],\n",
        "    'A': ['B', 'D'],\n",
        "    'B': ['D', 'C'],\n",
        "    'C': ['G', 'D'],\n",
        "    'D': ['G']\n",
        "}\n",
        "\n",
        "# Titik awal dan tujuan\n",
        "start_node = 'S'\n",
        "goal_node = 'G'\n",
        "\n",
        "# Panggil fungsi Greedy Search\n",
        "greedy_search(graph, heuristic, start_node, goal_node)\n"
      ],
      "metadata": {
        "colab": {
          "base_uri": "https://localhost:8080/"
        },
        "id": "vSluM3MaoVR1",
        "outputId": "2ab5530e-b12d-46d8-a8be-a12eaabac903"
      },
      "execution_count": 10,
      "outputs": [
        {
          "output_type": "stream",
          "name": "stdout",
          "text": [
            "Simpul Tujuan Ditemukan!\n",
            "Jalur terpendek: ['S', 'B', 'D', 'G']\n"
          ]
        },
        {
          "output_type": "execute_result",
          "data": {
            "text/plain": [
              "['S', 'B', 'D', 'G']"
            ]
          },
          "metadata": {},
          "execution_count": 10
        }
      ]
    },
    {
      "cell_type": "markdown",
      "source": [
        "**A Star Search**"
      ],
      "metadata": {
        "id": "EpZT5WF6ou-Q"
      }
    },
    {
      "cell_type": "code",
      "source": [
        "from queue import PriorityQueue\n",
        "\n",
        "# Fungsi rekonstruksi jalur dari goal ke start\n",
        "def reconstruct_path(path, start, goal):\n",
        "    current = goal\n",
        "    route = [current]\n",
        "    while current != start:\n",
        "        current = path[current]\n",
        "        route.append(current)\n",
        "    route.reverse()\n",
        "    return route\n",
        "\n",
        "# Algoritma A* Tree Search\n",
        "def a_star_tree_search(graph, start, goal, heuristic):\n",
        "    frontier = PriorityQueue()\n",
        "    frontier.put((0, start))  # (Priority, Node)\n",
        "    path = {}\n",
        "\n",
        "    while not frontier.empty():\n",
        "        cost, current_node = frontier.get()\n",
        "\n",
        "        if current_node == goal:\n",
        "            print(\"Goal node found!\")\n",
        "            route = reconstruct_path(path, start, goal)\n",
        "            print(\"Route optimal:\", route)\n",
        "            return True\n",
        "\n",
        "        for neighbor, step_cost in graph[current_node].items():\n",
        "            total_cost = cost + step_cost + heuristic[neighbor]\n",
        "            frontier.put((total_cost, neighbor))\n",
        "            path[neighbor] = current_node\n",
        "\n",
        "    print(\"Goal node not found!\")\n",
        "    return False\n",
        "\n",
        "# Algoritma A* Graph Search\n",
        "def a_star_graph_search(graph, start, goal, heuristic):\n",
        "    frontier = PriorityQueue()\n",
        "    frontier.put((0, start))  # (Priority, Node)\n",
        "    explored = set()\n",
        "    path = {}\n",
        "\n",
        "    while not frontier.empty():\n",
        "        cost, current_node = frontier.get()\n",
        "\n",
        "        if current_node == goal:\n",
        "            print(\"Goal node found!\")\n",
        "            route = reconstruct_path(path, start, goal)\n",
        "            print(\"Route optimal:\", route)\n",
        "            return True\n",
        "\n",
        "        explored.add(current_node)\n",
        "\n",
        "        for neighbor, step_cost in graph[current_node].items():\n",
        "            if neighbor not in explored:\n",
        "                total_cost = cost + step_cost + heuristic[neighbor]\n",
        "                frontier.put((total_cost, neighbor))\n",
        "                path[neighbor] = current_node\n",
        "\n",
        "    print(\"Goal node not found!\")\n",
        "    return False\n",
        "\n",
        "# Heuristic values (tanpa node E)\n",
        "heuristic = {\n",
        "    'A': 4, 'B': 3, 'C': 3, 'D': 1, 'S': 6, 'G': 0\n",
        "}\n",
        "\n",
        "# Graph adjacency list with costs (tanpa node E)\n",
        "graph = {\n",
        "    'S': {'A': 3, 'B': 2},\n",
        "    'A': {'B': 1, 'D': 5},\n",
        "    'B': {'C': 2, 'D': 3},\n",
        "    'C': {'G': 4, 'D': 3},\n",
        "    'D': {'G': 1}\n",
        "}\n",
        "\n",
        "# Define start and goal nodes\n",
        "start_node = 'S'\n",
        "goal_node = 'G'\n",
        "\n",
        "# Run A* Tree Search\n",
        "a_star_tree_search(graph, start_node, goal_node, heuristic)\n",
        "\n",
        "# Run A* Graph Search\n",
        "a_star_graph_search(graph, start_node, goal_node, heuristic)\n"
      ],
      "metadata": {
        "colab": {
          "base_uri": "https://localhost:8080/"
        },
        "id": "u-KeS0dFoy8A",
        "outputId": "737ce5c9-d27b-4254-b2db-832f5f44af6c"
      },
      "execution_count": 9,
      "outputs": [
        {
          "output_type": "stream",
          "name": "stdout",
          "text": [
            "Goal node found!\n",
            "Route optimal: ['S', 'A', 'B', 'C', 'G']\n",
            "Goal node found!\n",
            "Route optimal: ['S', 'B', 'C', 'G']\n"
          ]
        },
        {
          "output_type": "execute_result",
          "data": {
            "text/plain": [
              "True"
            ]
          },
          "metadata": {},
          "execution_count": 9
        }
      ]
    }
  ]
}